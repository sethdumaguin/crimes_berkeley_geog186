{
 "cells": [
  {
   "cell_type": "code",
   "execution_count": 132,
   "metadata": {},
   "outputs": [],
   "source": [
    "import numpy as np\n",
    "import pandas as pd\n",
    "import re\n",
    "import json"
   ]
  },
  {
   "cell_type": "code",
   "execution_count": 2,
   "metadata": {},
   "outputs": [],
   "source": [
    "df = pd.read_csv(\"crimes.csv\")"
   ]
  },
  {
   "cell_type": "code",
   "execution_count": 48,
   "metadata": {},
   "outputs": [
    {
     "data": {
      "text/plain": [
       "4436"
      ]
     },
     "execution_count": 48,
     "metadata": {},
     "output_type": "execute_result"
    }
   ],
   "source": [
    "len(df)"
   ]
  },
  {
   "cell_type": "code",
   "execution_count": 27,
   "metadata": {},
   "outputs": [],
   "source": [
    "#latitude: x, longitude:y\n",
    "def get_lat(string):\n",
    "    if len(re.findall(r\"\\(.*\\)\", string)) == 0:\n",
    "        return 0.0\n",
    "    return float(re.findall(r\"\\(.*\\)\", string)[0].replace('(', '').replace(')', '').replace(' ', '').split(',')[0])"
   ]
  },
  {
   "cell_type": "code",
   "execution_count": 28,
   "metadata": {},
   "outputs": [],
   "source": [
    "def get_lon(string):\n",
    "    if len(re.findall(r\"\\(.*\\)\", string)) == 0:\n",
    "        return 0.0\n",
    "    return float(re.findall(r\"\\(.*\\)\", string)[0].replace('(', '').replace(')', '').replace(' ', '').split(',')[1])"
   ]
  },
  {
   "cell_type": "code",
   "execution_count": 113,
   "metadata": {},
   "outputs": [],
   "source": [
    "df['latitude'] = df['Block_Location'].apply(get_lat)\n",
    "df['longitude'] = df['Block_Location'].apply(get_lon)"
   ]
  },
  {
   "cell_type": "code",
   "execution_count": 114,
   "metadata": {},
   "outputs": [
    {
     "data": {
      "text/plain": [
       "36.51957090238948"
      ]
     },
     "execution_count": 114,
     "metadata": {},
     "output_type": "execute_result"
    }
   ],
   "source": [
    "df['latitude'].mean()"
   ]
  },
  {
   "cell_type": "code",
   "execution_count": 115,
   "metadata": {},
   "outputs": [
    {
     "data": {
      "text/plain": [
       "-117.9214566882329"
      ]
     },
     "execution_count": 115,
     "metadata": {},
     "output_type": "execute_result"
    }
   ],
   "source": [
    "df['longitude'].mean()"
   ]
  },
  {
   "cell_type": "code",
   "execution_count": 116,
   "metadata": {
    "scrolled": false
   },
   "outputs": [
    {
     "name": "stderr",
     "output_type": "stream",
     "text": [
      "/Users/sethdumaguin/.local/lib/python3.6/site-packages/ipykernel_launcher.py:1: SettingWithCopyWarning: \n",
      "A value is trying to be set on a copy of a slice from a DataFrame.\n",
      "Try using .loc[row_indexer,col_indexer] = value instead\n",
      "\n",
      "See the caveats in the documentation: http://pandas.pydata.org/pandas-docs/stable/indexing.html#indexing-view-versus-copy\n",
      "  \"\"\"Entry point for launching an IPython kernel.\n"
     ]
    }
   ],
   "source": [
    "df[df['Latitude'] == 0.0]['Latitude'] = df['Latitude'].mean()"
   ]
  },
  {
   "cell_type": "code",
   "execution_count": 117,
   "metadata": {},
   "outputs": [
    {
     "name": "stderr",
     "output_type": "stream",
     "text": [
      "/Users/sethdumaguin/.local/lib/python3.6/site-packages/ipykernel_launcher.py:1: SettingWithCopyWarning: \n",
      "A value is trying to be set on a copy of a slice from a DataFrame.\n",
      "Try using .loc[row_indexer,col_indexer] = value instead\n",
      "\n",
      "See the caveats in the documentation: http://pandas.pydata.org/pandas-docs/stable/indexing.html#indexing-view-versus-copy\n",
      "  \"\"\"Entry point for launching an IPython kernel.\n"
     ]
    }
   ],
   "source": [
    "df[df['Longitude'] == 0.0]['Longitude'] = df['Longitude'].mean()"
   ]
  },
  {
   "cell_type": "code",
   "execution_count": 118,
   "metadata": {},
   "outputs": [],
   "source": [
    "def get_crime(crime):\n",
    "    return crime.replace(\"/\", \" \").split(' ')[0]"
   ]
  },
  {
   "cell_type": "code",
   "execution_count": 119,
   "metadata": {},
   "outputs": [],
   "source": [
    "df['Short Crime'] = df['OFFENSE'].apply(get_crime)"
   ]
  },
  {
   "cell_type": "code",
   "execution_count": 120,
   "metadata": {},
   "outputs": [],
   "source": [
    "crime_score = pd.read_csv('crime_score.csv')"
   ]
  },
  {
   "cell_type": "code",
   "execution_count": 121,
   "metadata": {},
   "outputs": [
    {
     "data": {
      "text/html": [
       "<div>\n",
       "<style scoped>\n",
       "    .dataframe tbody tr th:only-of-type {\n",
       "        vertical-align: middle;\n",
       "    }\n",
       "\n",
       "    .dataframe tbody tr th {\n",
       "        vertical-align: top;\n",
       "    }\n",
       "\n",
       "    .dataframe thead th {\n",
       "        text-align: right;\n",
       "    }\n",
       "</style>\n",
       "<table border=\"1\" class=\"dataframe\">\n",
       "  <thead>\n",
       "    <tr style=\"text-align: right;\">\n",
       "      <th></th>\n",
       "      <th>Crime</th>\n",
       "      <th>Score</th>\n",
       "    </tr>\n",
       "  </thead>\n",
       "  <tbody>\n",
       "    <tr>\n",
       "      <th>0</th>\n",
       "      <td>RECOVERED VEHICLE</td>\n",
       "      <td>0</td>\n",
       "    </tr>\n",
       "    <tr>\n",
       "      <th>1</th>\n",
       "      <td>VANDALISM</td>\n",
       "      <td>1</td>\n",
       "    </tr>\n",
       "    <tr>\n",
       "      <th>2</th>\n",
       "      <td>NOISE VIOLATION</td>\n",
       "      <td>2</td>\n",
       "    </tr>\n",
       "    <tr>\n",
       "      <th>3</th>\n",
       "      <td>DRUG VIOLATION</td>\n",
       "      <td>3</td>\n",
       "    </tr>\n",
       "    <tr>\n",
       "      <th>4</th>\n",
       "      <td>LIQUOR LAW VIOLATION</td>\n",
       "      <td>3</td>\n",
       "    </tr>\n",
       "  </tbody>\n",
       "</table>\n",
       "</div>"
      ],
      "text/plain": [
       "                  Crime  Score\n",
       "0     RECOVERED VEHICLE      0\n",
       "1             VANDALISM      1\n",
       "2       NOISE VIOLATION      2\n",
       "3        DRUG VIOLATION      3\n",
       "4  LIQUOR LAW VIOLATION      3"
      ]
     },
     "execution_count": 121,
     "metadata": {},
     "output_type": "execute_result"
    }
   ],
   "source": [
    "crime_score.head()"
   ]
  },
  {
   "cell_type": "code",
   "execution_count": 123,
   "metadata": {},
   "outputs": [],
   "source": [
    "crime_score = {\n",
    "    \"RECOVERED VEHICLE\" : 0,\n",
    "    \"VANDALISM\": 1,\n",
    "    \"NOISE VIOLATION\" : 2, \n",
    "    \"DRUG VIOLATION\" : 3, \n",
    "    \"LIQUOR LAW VIOLATION\": 3, \n",
    "    \"DISORDERLY CONDUCT\": 4, \n",
    "    \"FAMILY OFFENSE\": 5, \n",
    "    \"WEAPONS OFFENSE\" : 5, \n",
    "    \"BURGLARY - RESIDENTIAL\" : 6, \n",
    "    \"BURGLARY - VEHICLE\" : 6, \n",
    "    \"FRAUD\": 6, \n",
    "    \"BURGLARY - COMMERCIAL\" : 6, \n",
    "    \"ROBBERY\" : 6, \n",
    "    \"MOTOR VEHICLE THEFT\": 6, \n",
    "    \"LARCENY\": 7,\n",
    "    \"LARCENY - FROM VEHICLE\": 7, \n",
    "    \"ASSAULT\": 8, \n",
    "    \"SEX CRIME\": 9, \n",
    "    \"MISSING PERSON\" : 10, \n",
    "    \"KIDNAPPING\" : 11, \n",
    "    \"ARSON\" :12\n",
    "}"
   ]
  },
  {
   "cell_type": "code",
   "execution_count": 124,
   "metadata": {},
   "outputs": [],
   "source": [
    "scores = []\n",
    "for i in df[\"CVLEGEND\"]:\n",
    "    scores.append(crime_score[i])\n",
    "\n",
    "df['Score'] = scores"
   ]
  },
  {
   "cell_type": "code",
   "execution_count": 125,
   "metadata": {},
   "outputs": [
    {
     "data": {
      "text/html": [
       "<div>\n",
       "<style scoped>\n",
       "    .dataframe tbody tr th:only-of-type {\n",
       "        vertical-align: middle;\n",
       "    }\n",
       "\n",
       "    .dataframe tbody tr th {\n",
       "        vertical-align: top;\n",
       "    }\n",
       "\n",
       "    .dataframe thead th {\n",
       "        text-align: right;\n",
       "    }\n",
       "</style>\n",
       "<table border=\"1\" class=\"dataframe\">\n",
       "  <thead>\n",
       "    <tr style=\"text-align: right;\">\n",
       "      <th></th>\n",
       "      <th>CASENO</th>\n",
       "      <th>OFFENSE</th>\n",
       "      <th>EVENTDT</th>\n",
       "      <th>EVENTTM</th>\n",
       "      <th>CVLEGEND</th>\n",
       "      <th>CVDOW</th>\n",
       "      <th>InDbDate</th>\n",
       "      <th>Block_Location</th>\n",
       "      <th>BLKADDR</th>\n",
       "      <th>City</th>\n",
       "      <th>State</th>\n",
       "      <th>Latitude</th>\n",
       "      <th>Longitude</th>\n",
       "      <th>Short Crime</th>\n",
       "      <th>Score</th>\n",
       "      <th>latitude</th>\n",
       "      <th>longitude</th>\n",
       "    </tr>\n",
       "  </thead>\n",
       "  <tbody>\n",
       "    <tr>\n",
       "      <th>0</th>\n",
       "      <td>18063668</td>\n",
       "      <td>BURGLARY RESIDENTIAL</td>\n",
       "      <td>11/14/2018 12:00:00 AM</td>\n",
       "      <td>02:48</td>\n",
       "      <td>BURGLARY - RESIDENTIAL</td>\n",
       "      <td>3</td>\n",
       "      <td>04/14/2019 07:00:12 AM</td>\n",
       "      <td>1000 PARDEE ST\\nBerkeley, CA\\n(37.856698, -122...</td>\n",
       "      <td>1000 PARDEE ST</td>\n",
       "      <td>Berkeley</td>\n",
       "      <td>CA</td>\n",
       "      <td>37.856698</td>\n",
       "      <td>-122.290343</td>\n",
       "      <td>BURGLARY</td>\n",
       "      <td>6</td>\n",
       "      <td>37.856698</td>\n",
       "      <td>-122.290343</td>\n",
       "    </tr>\n",
       "    <tr>\n",
       "      <th>1</th>\n",
       "      <td>18062188</td>\n",
       "      <td>NARCOTICS</td>\n",
       "      <td>11/05/2018 12:00:00 AM</td>\n",
       "      <td>14:27</td>\n",
       "      <td>DRUG VIOLATION</td>\n",
       "      <td>1</td>\n",
       "      <td>04/14/2019 07:00:12 AM</td>\n",
       "      <td>2300 BANCROFT WAY\\nBerkeley, CA\\n(37.868199, -...</td>\n",
       "      <td>2300 BANCROFT WAY</td>\n",
       "      <td>Berkeley</td>\n",
       "      <td>CA</td>\n",
       "      <td>37.868199</td>\n",
       "      <td>-122.263253</td>\n",
       "      <td>NARCOTICS</td>\n",
       "      <td>3</td>\n",
       "      <td>37.868199</td>\n",
       "      <td>-122.263253</td>\n",
       "    </tr>\n",
       "    <tr>\n",
       "      <th>2</th>\n",
       "      <td>19090551</td>\n",
       "      <td>BURGLARY AUTO</td>\n",
       "      <td>03/07/2019 12:00:00 AM</td>\n",
       "      <td>10:15</td>\n",
       "      <td>BURGLARY - VEHICLE</td>\n",
       "      <td>4</td>\n",
       "      <td>04/14/2019 07:00:18 AM</td>\n",
       "      <td>800 BOLIVAR DR\\nBerkeley, CA</td>\n",
       "      <td>800 BOLIVAR DR</td>\n",
       "      <td>Berkeley</td>\n",
       "      <td>CA</td>\n",
       "      <td>0.000000</td>\n",
       "      <td>0.000000</td>\n",
       "      <td>BURGLARY</td>\n",
       "      <td>6</td>\n",
       "      <td>0.000000</td>\n",
       "      <td>0.000000</td>\n",
       "    </tr>\n",
       "    <tr>\n",
       "      <th>3</th>\n",
       "      <td>18092014</td>\n",
       "      <td>VANDALISM</td>\n",
       "      <td>11/14/2018 12:00:00 AM</td>\n",
       "      <td>17:00</td>\n",
       "      <td>VANDALISM</td>\n",
       "      <td>3</td>\n",
       "      <td>04/14/2019 07:00:12 AM</td>\n",
       "      <td>VINE STREET &amp;amp; MILVIA ST\\nBerkeley, CA\\n(37...</td>\n",
       "      <td>VINE STREET &amp; MILVIA ST</td>\n",
       "      <td>Berkeley</td>\n",
       "      <td>CA</td>\n",
       "      <td>37.879921</td>\n",
       "      <td>-122.271646</td>\n",
       "      <td>VANDALISM</td>\n",
       "      <td>1</td>\n",
       "      <td>37.879921</td>\n",
       "      <td>-122.271646</td>\n",
       "    </tr>\n",
       "    <tr>\n",
       "      <th>4</th>\n",
       "      <td>19016735</td>\n",
       "      <td>THEFT FELONY (OVER $950)</td>\n",
       "      <td>03/28/2019 12:00:00 AM</td>\n",
       "      <td>23:00</td>\n",
       "      <td>LARCENY</td>\n",
       "      <td>4</td>\n",
       "      <td>04/14/2019 07:00:12 AM</td>\n",
       "      <td>1600 FIFTH ST\\nBerkeley, CA\\n(37.873865, -122....</td>\n",
       "      <td>1600 FIFTH ST</td>\n",
       "      <td>Berkeley</td>\n",
       "      <td>CA</td>\n",
       "      <td>37.873865</td>\n",
       "      <td>-122.300777</td>\n",
       "      <td>THEFT</td>\n",
       "      <td>7</td>\n",
       "      <td>37.873865</td>\n",
       "      <td>-122.300777</td>\n",
       "    </tr>\n",
       "  </tbody>\n",
       "</table>\n",
       "</div>"
      ],
      "text/plain": [
       "     CASENO                   OFFENSE                 EVENTDT EVENTTM  \\\n",
       "0  18063668      BURGLARY RESIDENTIAL  11/14/2018 12:00:00 AM   02:48   \n",
       "1  18062188                 NARCOTICS  11/05/2018 12:00:00 AM   14:27   \n",
       "2  19090551             BURGLARY AUTO  03/07/2019 12:00:00 AM   10:15   \n",
       "3  18092014                 VANDALISM  11/14/2018 12:00:00 AM   17:00   \n",
       "4  19016735  THEFT FELONY (OVER $950)  03/28/2019 12:00:00 AM   23:00   \n",
       "\n",
       "                 CVLEGEND  CVDOW                InDbDate  \\\n",
       "0  BURGLARY - RESIDENTIAL      3  04/14/2019 07:00:12 AM   \n",
       "1          DRUG VIOLATION      1  04/14/2019 07:00:12 AM   \n",
       "2      BURGLARY - VEHICLE      4  04/14/2019 07:00:18 AM   \n",
       "3               VANDALISM      3  04/14/2019 07:00:12 AM   \n",
       "4                 LARCENY      4  04/14/2019 07:00:12 AM   \n",
       "\n",
       "                                      Block_Location                  BLKADDR  \\\n",
       "0  1000 PARDEE ST\\nBerkeley, CA\\n(37.856698, -122...           1000 PARDEE ST   \n",
       "1  2300 BANCROFT WAY\\nBerkeley, CA\\n(37.868199, -...        2300 BANCROFT WAY   \n",
       "2                       800 BOLIVAR DR\\nBerkeley, CA           800 BOLIVAR DR   \n",
       "3  VINE STREET &amp; MILVIA ST\\nBerkeley, CA\\n(37...  VINE STREET & MILVIA ST   \n",
       "4  1600 FIFTH ST\\nBerkeley, CA\\n(37.873865, -122....            1600 FIFTH ST   \n",
       "\n",
       "       City State   Latitude   Longitude Short Crime  Score   latitude  \\\n",
       "0  Berkeley    CA  37.856698 -122.290343    BURGLARY      6  37.856698   \n",
       "1  Berkeley    CA  37.868199 -122.263253   NARCOTICS      3  37.868199   \n",
       "2  Berkeley    CA   0.000000    0.000000    BURGLARY      6   0.000000   \n",
       "3  Berkeley    CA  37.879921 -122.271646   VANDALISM      1  37.879921   \n",
       "4  Berkeley    CA  37.873865 -122.300777       THEFT      7  37.873865   \n",
       "\n",
       "    longitude  \n",
       "0 -122.290343  \n",
       "1 -122.263253  \n",
       "2    0.000000  \n",
       "3 -122.271646  \n",
       "4 -122.300777  "
      ]
     },
     "execution_count": 125,
     "metadata": {},
     "output_type": "execute_result"
    }
   ],
   "source": [
    "df.head()"
   ]
  },
  {
   "cell_type": "code",
   "execution_count": 126,
   "metadata": {},
   "outputs": [],
   "source": [
    "def df_to_geojson(df, properties, lat='latitude', lon='longitude'):\n",
    "    geojson = {'type':'FeatureCollection', 'features':[]}\n",
    "    for _, row in df.iterrows():\n",
    "        feature = {'type':'Feature',\n",
    "                   'properties':{},\n",
    "                   'geometry':{'type':'Point',\n",
    "                               'coordinates':[]}}\n",
    "        feature['geometry']['coordinates'] = [row[lon],row[lat]]\n",
    "        for prop in properties:\n",
    "            feature['properties'][prop] = row[prop]\n",
    "        geojson['features'].append(feature)\n",
    "    return geojson"
   ]
  },
  {
   "cell_type": "code",
   "execution_count": 134,
   "metadata": {},
   "outputs": [],
   "source": [
    "cols = ['BLKADDR', 'Score', 'CVLEGEND']\n",
    "geojson = df_to_geojson(df, cols)\n",
    "geojson_str = json.dumps(geojson, indent=2)"
   ]
  },
  {
   "cell_type": "code",
   "execution_count": 135,
   "metadata": {},
   "outputs": [],
   "source": [
    "output_filename = 'dataset.js'\n",
    "with open(output_filename, 'w') as output_file:\n",
    "    output_file.write('var dataset = {};'.format(geojson_str))"
   ]
  },
  {
   "cell_type": "code",
   "execution_count": null,
   "metadata": {},
   "outputs": [],
   "source": []
  }
 ],
 "metadata": {
  "kernelspec": {
   "display_name": "Python 3",
   "language": "python",
   "name": "python3"
  },
  "language_info": {
   "codemirror_mode": {
    "name": "ipython",
    "version": 3
   },
   "file_extension": ".py",
   "mimetype": "text/x-python",
   "name": "python",
   "nbconvert_exporter": "python",
   "pygments_lexer": "ipython3",
   "version": "3.6.7"
  }
 },
 "nbformat": 4,
 "nbformat_minor": 2
}
